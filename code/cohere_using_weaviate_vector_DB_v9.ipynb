{
  "cells": [
    {
      "cell_type": "code",
      "execution_count": 8,
      "metadata": {
        "id": "fgzv0n6ZYBNi"
      },
      "outputs": [],
      "source": [
        "# pip install weaviate-client cohere langchain"
      ]
    },
    {
      "cell_type": "code",
      "source": [
        "# pip install pdfminer.six unstructured[unstructured_inference] PyMuPDF"
      ],
      "metadata": {
        "id": "WwwYTKXS_x9T"
      },
      "execution_count": 11,
      "outputs": []
    },
    {
      "cell_type": "code",
      "source": [
        "# pip install 'PyPDF2<3.0'"
      ],
      "metadata": {
        "id": "z6Rk0hnG_3S0"
      },
      "execution_count": 13,
      "outputs": []
    },
    {
      "cell_type": "code",
      "execution_count": 4,
      "metadata": {
        "id": "6l76iwJBwssm"
      },
      "outputs": [],
      "source": [
        "# pip install unstructured pdf2image pikepdf unstructured-inference camelot-py[base]"
      ]
    },
    {
      "cell_type": "code",
      "source": [
        "# !apt-get install ghostscript"
      ],
      "metadata": {
        "id": "vb9vfW13JCI0"
      },
      "execution_count": 5,
      "outputs": []
    },
    {
      "cell_type": "code",
      "source": [
        "# !pip install pillow-heif"
      ],
      "metadata": {
        "id": "zKFhyJM7B-KT"
      },
      "execution_count": 9,
      "outputs": []
    },
    {
      "cell_type": "code",
      "source": [
        "# !pip install pypdf"
      ],
      "metadata": {
        "id": "D97oZXsDB7S7"
      },
      "execution_count": 11,
      "outputs": []
    },
    {
      "cell_type": "code",
      "execution_count": null,
      "metadata": {
        "id": "8LolmVExwI5x"
      },
      "outputs": [],
      "source": [
        "# mkdir data"
      ]
    },
    {
      "cell_type": "code",
      "execution_count": 12,
      "metadata": {
        "id": "c4GzIz7L_uyF"
      },
      "outputs": [],
      "source": [
        "import csv\n",
        "import requests\n",
        "import pandas as pd\n",
        "import weaviate\n",
        "import cohere\n",
        "import pdfplumber\n",
        "import camelot as cam\n",
        "from langchain.vectorstores import Weaviate\n",
        "from langchain_community.embeddings import CohereEmbeddings\n",
        "from langchain.document_loaders import UnstructuredPDFLoader, OnlinePDFLoader\n",
        "from langchain.text_splitter import RecursiveCharacterTextSplitter\n",
        "from langchain.chains.question_answering import load_qa_chain\n",
        "from langchain_community.llms import Cohere\n",
        "from langchain.document_loaders import TextLoader"
      ]
    },
    {
      "cell_type": "code",
      "execution_count": 13,
      "metadata": {
        "id": "G8-quBUX5FRr"
      },
      "outputs": [],
      "source": [
        "WEAVIATE_API_KEY = \"WfdvclBO4vWoiOfXCV1DjwOZUNZ08nr3NACb\"\n",
        "WEAVIATE_CLUSTER = \"https://weaviate-hackathon-cluster-7l2iio8z.weaviate.network\"\n",
        "COHERE_API_KEY = \"QnW41n57tHZl6r5EscOHPg1KbF6YrUAhpE7oJGSA\""
      ]
    },
    {
      "cell_type": "markdown",
      "source": [
        "**Loading datasets for preprocessing**"
      ],
      "metadata": {
        "id": "pKTedMo1A-Zb"
      }
    },
    {
      "cell_type": "code",
      "source": [
        "# Note: Here, we are trying to analyse financial data. So to get better results, extracting tables from the pdf separately using Camelot package and merging balance sheet, statement of P and L, and cash flow as one CSV file."
      ],
      "metadata": {
        "id": "KoiWOJqeDscs"
      },
      "execution_count": 19,
      "outputs": []
    },
    {
      "cell_type": "code",
      "source": [
        "# Extracting tables from pdf"
      ],
      "metadata": {
        "id": "vS-MrBkaKJSc"
      },
      "execution_count": null,
      "outputs": []
    },
    {
      "cell_type": "code",
      "source": [
        "pdf_hl = cam.read_pdf(\"ABB India Limited16.pdf\",pages=\"6\", flavor=\"stream\")\n",
        "pdf_hl[0].df.to_csv(\"Five-year-highlights.csv\",index=False)"
      ],
      "metadata": {
        "id": "5RvCU822KEmJ"
      },
      "execution_count": null,
      "outputs": []
    },
    {
      "cell_type": "code",
      "execution_count": null,
      "metadata": {
        "id": "M195oT3E6G-U"
      },
      "outputs": [],
      "source": [
        "pdf_bs = cam.read_pdf(\"ABB India Limited16.pdf\",pages=\"100\", flavor=\"stream\")\n",
        "pdf_bs[0].df.to_csv(\"balancesheet.csv\",index=False)"
      ]
    },
    {
      "cell_type": "code",
      "source": [
        "pdf_spl = cam.read_pdf(\"ABB India Limited16.pdf\",pages=\"101\", flavor=\"stream\")\n",
        "pdf_spl[0].df.to_csv(\"Statement of Profit and Loss.csv\",index=False)"
      ],
      "metadata": {
        "id": "uDEZr6IJFNJ_"
      },
      "execution_count": null,
      "outputs": []
    },
    {
      "cell_type": "code",
      "source": [
        "pdf_cf = cam.read_pdf(\"ABB India Limited16.pdf\",pages=\"102\", flavor=\"stream\")\n",
        "pdf_cf[0].df.to_csv(\"cash_flow_statement.csv\",index=False)"
      ],
      "metadata": {
        "id": "MphVBKSZEKuE"
      },
      "execution_count": null,
      "outputs": []
    },
    {
      "cell_type": "markdown",
      "source": [
        "**# Connecting to weaviate cluster**"
      ],
      "metadata": {
        "id": "H87LB-m6H4BV"
      }
    },
    {
      "cell_type": "code",
      "execution_count": null,
      "metadata": {
        "id": "i-_dQFge6ONM"
      },
      "outputs": [],
      "source": [
        "auth_config = weaviate.auth.AuthApiKey(api_key = WEAVIATE_API_KEY)\n",
        "weaviate_url = WEAVIATE_CLUSTER"
      ]
    },
    {
      "cell_type": "code",
      "execution_count": null,
      "metadata": {
        "id": "MT8_3x_t6RKw"
      },
      "outputs": [],
      "source": [
        "client = weaviate.Client(url = weaviate_url,\n",
        "additional_headers = {\"X-Cohere-Api-Key\":COHERE_API_KEY},\n",
        "auth_client_secret = auth_config)"
      ]
    },
    {
      "cell_type": "code",
      "execution_count": null,
      "metadata": {
        "colab": {
          "base_uri": "https://localhost:8080/"
        },
        "id": "rehSjqb8v1bq",
        "outputId": "ecd47934-4aee-444b-d51a-d7e7f5c8fecc"
      },
      "outputs": [
        {
          "output_type": "execute_result",
          "data": {
            "text/plain": [
              "True"
            ]
          },
          "metadata": {},
          "execution_count": 162
        }
      ],
      "source": [
        "client.is_ready()"
      ]
    },
    {
      "cell_type": "code",
      "execution_count": null,
      "metadata": {
        "id": "UQznLI120ZeX"
      },
      "outputs": [],
      "source": [
        "client.schema.delete_all()"
      ]
    },
    {
      "cell_type": "code",
      "execution_count": null,
      "metadata": {
        "colab": {
          "base_uri": "https://localhost:8080/"
        },
        "id": "mQa-2KXb0eR9",
        "outputId": "6ee7b71d-6f12-4d95-9069-7ca045beede7"
      },
      "outputs": [
        {
          "output_type": "execute_result",
          "data": {
            "text/plain": [
              "{'classes': []}"
            ]
          },
          "metadata": {},
          "execution_count": 164
        }
      ],
      "source": [
        "client.schema.get()"
      ]
    },
    {
      "cell_type": "code",
      "source": [
        "# Note: we are using txt and csv files for creating the knowledge base for LLM (all these tables are extracted from ABB India Limited16.pdf)"
      ],
      "metadata": {
        "id": "rBd3GO1iIDbr"
      },
      "execution_count": null,
      "outputs": []
    },
    {
      "cell_type": "code",
      "execution_count": null,
      "metadata": {
        "id": "EyiLE_dd3gw2"
      },
      "outputs": [],
      "source": []
    },
    {
      "cell_type": "markdown",
      "source": [
        "1. creating class for Five-year-highlights data"
      ],
      "metadata": {
        "id": "nYkeCwjMJHJ8"
      }
    },
    {
      "cell_type": "code",
      "execution_count": null,
      "metadata": {
        "id": "E8nsJmco2tYj"
      },
      "outputs": [],
      "source": [
        "class_nameIfiveyhighl = \"Fiveyearhighlights\"\n",
        "\n",
        "class_obj = {\n",
        "    \"class\": class_nameIfiveyhighl,\n",
        "    \"vectorizer\": \"text2vec-cohere\",\n",
        "    }\n",
        "\n",
        "client.schema.create_class(class_obj)"
      ]
    },
    {
      "cell_type": "code",
      "execution_count": null,
      "metadata": {
        "id": "eZsOroyC2xHd"
      },
      "outputs": [],
      "source": [
        "# client.schema.get()"
      ]
    },
    {
      "cell_type": "code",
      "execution_count": null,
      "metadata": {
        "id": "CWWjmyFxwSij"
      },
      "outputs": [],
      "source": [
        "weaviate_url = WEAVIATE_CLUSTER\n",
        "csv_file_path = \"Five-year-highlights.csv\""
      ]
    },
    {
      "cell_type": "code",
      "execution_count": null,
      "metadata": {
        "id": "mfoA7iV9wYJU"
      },
      "outputs": [],
      "source": [
        "csv_file_path = \"Five-year-highlights.csv\"\n",
        "df = pd.read_csv(csv_file_path,index_col=\"Description\")"
      ]
    },
    {
      "cell_type": "code",
      "execution_count": null,
      "metadata": {
        "id": "TRyk1pmeh_6J"
      },
      "outputs": [],
      "source": [
        "# col_names = df.columns"
      ]
    },
    {
      "cell_type": "code",
      "execution_count": null,
      "metadata": {
        "id": "ULqJEBQ2hXBO"
      },
      "outputs": [],
      "source": [
        "# df[col_names] = df[col_names].apply(pd.to_numeric)"
      ]
    },
    {
      "cell_type": "code",
      "execution_count": null,
      "metadata": {
        "colab": {
          "base_uri": "https://localhost:8080/"
        },
        "id": "7UmjcZTQi49i",
        "outputId": "7dc29848-cde2-4b4f-8424-91eac6bb704c"
      },
      "outputs": [
        {
          "output_type": "stream",
          "name": "stdout",
          "text": [
            "<class 'pandas.core.frame.DataFrame'>\n",
            "Index: 19 entries, Shares capital to Number of permanent employees\n",
            "Data columns (total 5 columns):\n",
            " #   Column  Non-Null Count  Dtype\n",
            "---  ------  --------------  -----\n",
            " 0   2016    19 non-null     int64\n",
            " 1   2015    19 non-null     int64\n",
            " 2   2014    19 non-null     int64\n",
            " 3   2013    19 non-null     int64\n",
            " 4   2012    19 non-null     int64\n",
            "dtypes: int64(5)\n",
            "memory usage: 912.0+ bytes\n"
          ]
        }
      ],
      "source": [
        "df.info()"
      ]
    },
    {
      "cell_type": "code",
      "execution_count": null,
      "metadata": {
        "id": "BxCiWkJuzDyt"
      },
      "outputs": [],
      "source": [
        "hl_result_dict = []\n",
        "\n",
        "for index, row in df.iterrows():\n",
        "    for year, value in row.items():\n",
        "        hl_result_dict.append({\n",
        "            \"description\": index,\n",
        "            \"year\": int(year),\n",
        "            \"value\": int(value)\n",
        "        })"
      ]
    },
    {
      "cell_type": "code",
      "execution_count": null,
      "metadata": {
        "colab": {
          "base_uri": "https://localhost:8080/"
        },
        "id": "q4vM4oCOw1bp",
        "outputId": "285bab08-c434-4c0b-8668-03e82ca221c1"
      },
      "outputs": [
        {
          "output_type": "execute_result",
          "data": {
            "text/plain": [
              "{'description': 'Shares capital', 'year': 2016, 'value': 42}"
            ]
          },
          "metadata": {},
          "execution_count": 174
        }
      ],
      "source": [
        "hl_result_dict[0]"
      ]
    },
    {
      "cell_type": "code",
      "execution_count": null,
      "metadata": {
        "id": "AfzVt4g_RLXQ"
      },
      "outputs": [],
      "source": [
        "# Reference:\n",
        "# https://weaviate.io/developers/weaviate/manage-data/import\n",
        "# https://weaviate-python-client.readthedocs.io/en/stable/weaviate.batch.html"
      ]
    },
    {
      "cell_type": "code",
      "execution_count": null,
      "metadata": {
        "id": "RTan-AnTCLOW"
      },
      "outputs": [],
      "source": [
        "with client.batch as batch:  # Context manager manages batch flushing\n",
        "    batch.batch_size=10\n",
        "    batch.dynamic=True\n",
        "    for data_obj in hl_result_dict:\n",
        "        batch.add_data_object(\n",
        "            data_obj,\n",
        "            class_nameIfiveyhighl\n",
        "        )"
      ]
    },
    {
      "cell_type": "code",
      "execution_count": null,
      "metadata": {
        "id": "NpXWuBTaCe35"
      },
      "outputs": [],
      "source": [
        "# print(client.query.aggregate(class_name).with_meta_count().do())"
      ]
    },
    {
      "cell_type": "code",
      "source": [],
      "metadata": {
        "id": "IJo6t0XqNCeA"
      },
      "execution_count": null,
      "outputs": []
    },
    {
      "cell_type": "markdown",
      "source": [
        "2. creating class for Cash flow statement, Statement of Profit and Loss, Five-year-highlights"
      ],
      "metadata": {
        "id": "3mFVIaVCJQH8"
      }
    },
    {
      "cell_type": "code",
      "source": [
        "class_bs_cf_spl_tables = \"bs_cf_spl_tables\"\n",
        "\n",
        "class_obj = {\n",
        "    \"class\": class_bs_cf_spl_tables,\n",
        "    \"vectorizer\": \"text2vec-cohere\",\n",
        "    }\n",
        "\n",
        "client.schema.create_class(class_obj)"
      ],
      "metadata": {
        "id": "uaULQ7AyNIF0"
      },
      "execution_count": null,
      "outputs": []
    },
    {
      "cell_type": "code",
      "source": [
        "csv_cashflow = \"cashflowstatement_balancesheet_statementofPnL - Copy.csv\"\n",
        "df_cashflow = pd.read_csv(csv_cashflow,index_col=\"label\")"
      ],
      "metadata": {
        "id": "0u-Ily2HNII4"
      },
      "execution_count": null,
      "outputs": []
    },
    {
      "cell_type": "code",
      "source": [
        "df_cashflow.info()"
      ],
      "metadata": {
        "colab": {
          "base_uri": "https://localhost:8080/"
        },
        "id": "lG2n6BhTOEcB",
        "outputId": "b56b8825-9f87-463c-da37-7409f9e52bae"
      },
      "execution_count": null,
      "outputs": [
        {
          "output_type": "stream",
          "name": "stdout",
          "text": [
            "<class 'pandas.core.frame.DataFrame'>\n",
            "Index: 86 entries, Profit before tax to Diluted\n",
            "Data columns (total 2 columns):\n",
            " #   Column  Non-Null Count  Dtype  \n",
            "---  ------  --------------  -----  \n",
            " 0   2016    86 non-null     float64\n",
            " 1   2015    86 non-null     float64\n",
            "dtypes: float64(2)\n",
            "memory usage: 2.0+ KB\n"
          ]
        }
      ]
    },
    {
      "cell_type": "code",
      "source": [
        "cash_flow_dict = []\n",
        "\n",
        "for index, row in df_cashflow.iterrows():\n",
        "    for year, value in row.items():\n",
        "        cash_flow_dict.append({\n",
        "            \"bs_cf_spl_description\": index,\n",
        "            \"bs_cf_spl_year\": int(year),\n",
        "            \"bs_cf_spl_value\": int(value)\n",
        "        })"
      ],
      "metadata": {
        "id": "P2Votf6ZNIMd"
      },
      "execution_count": null,
      "outputs": []
    },
    {
      "cell_type": "code",
      "source": [
        "cash_flow_dict[0]"
      ],
      "metadata": {
        "colab": {
          "base_uri": "https://localhost:8080/"
        },
        "id": "3_hl-1xVNxVj",
        "outputId": "c3304ac4-2671-4319-f4cf-228475acea68"
      },
      "execution_count": null,
      "outputs": [
        {
          "output_type": "execute_result",
          "data": {
            "text/plain": [
              "{'bs_cf_spl_description': 'Profit before tax',\n",
              " 'bs_cf_spl_year': 2016,\n",
              " 'bs_cf_spl_value': 576}"
            ]
          },
          "metadata": {},
          "execution_count": 183
        }
      ]
    },
    {
      "cell_type": "code",
      "source": [
        "with client.batch as batch:  # Context manager manages batch flushing\n",
        "    batch.batch_size=10\n",
        "    batch.dynamic=True\n",
        "    for data_obj in cash_flow_dict:\n",
        "        batch.add_data_object(\n",
        "            data_obj,\n",
        "            class_bs_cf_spl_tables\n",
        "        )"
      ],
      "metadata": {
        "id": "Fn9Le1A2NxZE"
      },
      "execution_count": null,
      "outputs": []
    },
    {
      "cell_type": "code",
      "execution_count": null,
      "metadata": {
        "id": "Kr8AyNgcGYnx"
      },
      "outputs": [],
      "source": []
    },
    {
      "cell_type": "markdown",
      "source": [
        "3. creating class for ABB text data"
      ],
      "metadata": {
        "id": "Rv9lWbtqJXWy"
      }
    },
    {
      "cell_type": "code",
      "execution_count": null,
      "metadata": {
        "id": "gbhbjNuFDcW9"
      },
      "outputs": [],
      "source": [
        "class_name_abb_data = \"Abbdata\""
      ]
    },
    {
      "cell_type": "code",
      "execution_count": null,
      "metadata": {
        "id": "UoyZyXYTDcaV"
      },
      "outputs": [],
      "source": [
        "class_obj = {\n",
        "    \"class\": class_name_abb_data,\n",
        "    \"vectorizer\": \"text2vec-cohere\",\n",
        "    }\n",
        "\n",
        "client.schema.create_class(class_obj)"
      ]
    },
    {
      "cell_type": "code",
      "execution_count": null,
      "metadata": {
        "id": "1eyjoo13Dcdd"
      },
      "outputs": [],
      "source": [
        "# client.schema.get()"
      ]
    },
    {
      "cell_type": "code",
      "execution_count": 16,
      "metadata": {
        "id": "kPHAvATKDvut"
      },
      "outputs": [],
      "source": [
        "# # pdf\n",
        "loader = UnstructuredPDFLoader(\"ABB India Limited16.pdf\")\n",
        "abb_data = loader.load()\n",
        "\n",
        "# # txt file\n",
        "# loader = TextLoader(\"ABB India Limited16pdf.txt\")\n",
        "# abb_data = loader.load()"
      ]
    },
    {
      "cell_type": "code",
      "execution_count": 17,
      "metadata": {
        "id": "pwz5j5M8FbRT"
      },
      "outputs": [],
      "source": [
        "text_splitter = RecursiveCharacterTextSplitter(chunk_size=800, chunk_overlap=0)\n",
        "abb_docs = text_splitter.split_documents(abb_data)"
      ]
    },
    {
      "cell_type": "code",
      "execution_count": null,
      "metadata": {
        "colab": {
          "base_uri": "https://localhost:8080/"
        },
        "id": "-HAWLC6aFfH6",
        "outputId": "319b8b67-2f61-4778-9695-e6f26964f888"
      },
      "outputs": [
        {
          "output_type": "execute_result",
          "data": {
            "text/plain": [
              "489"
            ]
          },
          "metadata": {},
          "execution_count": 191
        }
      ],
      "source": [
        "len(abb_docs)"
      ]
    },
    {
      "cell_type": "code",
      "execution_count": null,
      "metadata": {
        "id": "hXRPv_slFfLF"
      },
      "outputs": [],
      "source": [
        "abb_data_list = []\n",
        "for chunk in abb_docs:\n",
        "  data_new  = {}\n",
        "  data_new[\"doc_text\"] = chunk.page_content\n",
        "  abb_data_list.append(data_new)"
      ]
    },
    {
      "cell_type": "code",
      "execution_count": null,
      "metadata": {
        "id": "SpfdXRmWF9Vr"
      },
      "outputs": [],
      "source": [
        "with client.batch as batch:  # Context manager manages batch flushing\n",
        "    batch.batch_size=10\n",
        "    batch.dynamic=True\n",
        "    for data_obj in abb_data_list:\n",
        "        batch.add_data_object(\n",
        "            data_obj,\n",
        "            class_name_abb_data\n",
        "        )"
      ]
    },
    {
      "cell_type": "code",
      "execution_count": null,
      "metadata": {
        "id": "Wmnu42ymF9Y4"
      },
      "outputs": [],
      "source": [
        "# client.schema.get()"
      ]
    },
    {
      "cell_type": "code",
      "execution_count": null,
      "metadata": {
        "id": "hs8NYrIeFnZG"
      },
      "outputs": [],
      "source": [
        "# abb_data_list"
      ]
    },
    {
      "cell_type": "code",
      "execution_count": null,
      "metadata": {
        "id": "6KwcLEqIDv1H"
      },
      "outputs": [],
      "source": []
    },
    {
      "cell_type": "markdown",
      "source": [
        "Verifying vector database"
      ],
      "metadata": {
        "id": "J6YdTN3aLSzz"
      }
    },
    {
      "cell_type": "code",
      "execution_count": null,
      "metadata": {
        "id": "Wg8VmlksNlr9"
      },
      "outputs": [],
      "source": [
        "# user_prompt = \"Number of permanent employees in the year 2012\"\n",
        "user_prompt = \"what was the Profit after tax in the year 2016?\""
      ]
    },
    {
      "cell_type": "code",
      "execution_count": null,
      "metadata": {
        "colab": {
          "base_uri": "https://localhost:8080/"
        },
        "id": "Es5TTXdjIUoW",
        "outputId": "ce9ce12e-f9c3-4516-d749-6c2079c93d4f"
      },
      "outputs": [
        {
          "output_type": "stream",
          "name": "stdout",
          "text": [
            "{'data': {'Get': {'Fiveyearhighlights': [{'description': 'Profit after tax', 'value': 229, 'year': 2014}, {'description': 'Profit after tax', 'value': 137, 'year': 2012}, {'description': 'Profit after tax', 'value': 300, 'year': 2015}, {'description': 'Profit after tax', 'value': 179, 'year': 2013}, {'description': 'Profit after tax', 'value': 376, 'year': 2016}]}}}\n"
          ]
        }
      ],
      "source": [
        "results1 = client.query.get(\"Fiveyearhighlights\", [\"description\", \"year\", \"value\"]\n",
        ").with_near_text(\n",
        "    {\"concepts\": [user_prompt]}\n",
        ").with_limit(5).do()\n",
        "print(results1)"
      ]
    },
    {
      "cell_type": "code",
      "execution_count": null,
      "metadata": {
        "colab": {
          "base_uri": "https://localhost:8080/"
        },
        "id": "7_FmJmuCCm3u",
        "outputId": "11c3b298-94be-432c-f65b-fb96fc8bdc88"
      },
      "outputs": [
        {
          "output_type": "stream",
          "name": "stdout",
          "text": [
            "{'data': {'Get': {'Abbdata': [{'doc_text': 'due to operational excellence initiatives, supply chain \\n\\nefficiencies, focus on project management. Net profit \\n\\nafter tax was up by 25% at ` 376 crore for the current \\n\\nyear as compared to ` 300 crore in the previous year. \\n\\nConsequently the earnings per share for the year 2016 \\n\\nstood at ` 17.76 per share as compared to ` 14.15 per \\n\\nshare in the year 2015.\\n\\nParticulars For the year ended\\n\\nDecember 31, 2016 December 31, 2015\\n\\nProfit Before Taxation  576.05 474.59\\n\\nLess: Provision for Tax  \\n\\n- Current Tax  229.20 203.71\\n\\n- Deferred Tax  (29.40) (29.00)\\n\\nProfit after Tax  376.25 299.88\\n\\nBalance Brought Forward from last year  109.41 103.90\\n\\nAmount available for Appropriation  485.66 403.78\\n\\nAppropriations:  \\n\\nGeneral Reserve  210.00   150.00\\n\\nDebenture Redemption Reserve  50.00   50.00'}, {'doc_text': 'year was at ` 11,821 crore, providing visibility to the future \\n\\nrevenue streams. \\n\\n\\n\\n48 ABB INDIA LIMITEDABB ANNUAL REPORT 2016\\n\\nProfit before tax grew substantially to ` 576 crore in 2016 \\n\\nas compared to ̀  475 crore in the previous year mainly due \\n\\nto higher operational efficiency, lower material cost and \\n\\ninvestments towards entering newer markets. Profit after \\n\\ntax posted a growth of 25 percent at ` 376 crore for the \\n\\ncurrent year as compared to ` 300 crore in the previous \\n\\nyear. Consequently, the earnings per share for 2016 stood \\n\\nat ` 17.76 per share as compared to ` 14.15 in 2015.\\n\\nServices \\n\\nIn pursuit of delivering world-class customer experience, \\n\\nABB has always focused on offering value-based \\n\\nengagement and putting the customer first. This'}, {'doc_text': '2016 as against ` 8,100 crore in the previous year, \\n\\nreflecting the technology push in the transmission \\n\\nbusiness and the continued traction in transportation \\n\\nand renewable energy. Services and export-led orders \\n\\nresulted in more comprehensive customer \\n\\nengagements. The order backlog at the end of the \\n\\nyear stood at ` 11,821 crore which continued to \\n\\nprovide visibility to the future revenue streams. The \\n\\nrevenue from operations for the Company for the year \\n\\n2016 stood at ` 8,648 crore as against ` 8,140 crore in \\n\\nthe previous year, reflecting stability of operations in \\n\\nan uncertain market situation. Profit before tax was \\n\\nup by 21% at ` 576 crore in 2016 on higher sales as \\n\\ncompared to ` 475 crore in the previous year mainly'}]}}}\n"
          ]
        }
      ],
      "source": [
        "results2 = client.query.get(\"Abbdata\", [\"doc_text\"]\n",
        ").with_near_text(\n",
        "    {\"concepts\": [user_prompt]}\n",
        ").with_limit(3).do()\n",
        "print(results2)"
      ]
    },
    {
      "cell_type": "code",
      "source": [
        "results3 = client.query.get(\"bs_cf_spl_tables\", [\"bs_cf_spl_description\", \"bs_cf_spl_year\", \"bs_cf_spl_value\"]\n",
        ").with_near_text(\n",
        "    {\"concepts\": [user_prompt]}\n",
        ").with_limit(10).do()\n",
        "print(results3)"
      ],
      "metadata": {
        "colab": {
          "base_uri": "https://localhost:8080/"
        },
        "id": "6hVb6ehzPUDn",
        "outputId": "c35e5f4d-69f1-40e4-cc0c-9c39144dcb3b"
      },
      "execution_count": null,
      "outputs": [
        {
          "output_type": "stream",
          "name": "stdout",
          "text": [
            "{'data': {'Get': {'Bs_cf_spl_tables': [{'bs_cf_spl_description': 'Profit before tax', 'bs_cf_spl_value': 474, 'bs_cf_spl_year': 2015}, {'bs_cf_spl_description': 'Profit before tax', 'bs_cf_spl_value': 576, 'bs_cf_spl_year': 2016}, {'bs_cf_spl_description': 'Profit for the year', 'bs_cf_spl_value': 299, 'bs_cf_spl_year': 2015}, {'bs_cf_spl_description': 'Profit for the year', 'bs_cf_spl_value': 376, 'bs_cf_spl_year': 2016}, {'bs_cf_spl_description': 'Operating profit before working capital changes', 'bs_cf_spl_value': 797, 'bs_cf_spl_year': 2016}, {'bs_cf_spl_description': 'Revenue from operations (net)', 'bs_cf_spl_value': 8648, 'bs_cf_spl_year': 2016}, {'bs_cf_spl_description': 'Revenue from operations (net)', 'bs_cf_spl_value': 8140, 'bs_cf_spl_year': 2015}, {'bs_cf_spl_description': 'Operating profit before working capital changes', 'bs_cf_spl_value': 795, 'bs_cf_spl_year': 2015}, {'bs_cf_spl_description': 'Net cash flow from operating activities', 'bs_cf_spl_value': 862, 'bs_cf_spl_year': 2016}, {'bs_cf_spl_description': 'Net cash flow from operating activities', 'bs_cf_spl_value': 381, 'bs_cf_spl_year': 2015}]}}}\n"
          ]
        }
      ]
    },
    {
      "cell_type": "code",
      "source": [
        "# user_prompt = \"Gross fixed assets?\""
      ],
      "metadata": {
        "id": "OKc_5Z9608pF"
      },
      "execution_count": null,
      "outputs": []
    },
    {
      "cell_type": "code",
      "source": [
        "# results_final = client.query.get(\"bs_cf_spl_tables\", [\"bs_cf_spl_description\", \"bs_cf_spl_year\", \"bs_cf_spl_value\"]\n",
        "# ).with_near_text(\n",
        "#     {\"concepts\": [user_prompt],\n",
        "#      \"classes\": [\n",
        "#          {\"name1\": \"Fiveyearhighlights\", \"features\": [\"description\", \"year\", \"value\"]},\n",
        "#          {\"name2\": \"Abbdata\", \"features\": [\"doc_text\"]}\n",
        "#      ]}\n",
        "# ).with_limit(10).do()\n",
        "# print(results_final)"
      ],
      "metadata": {
        "id": "u5l-ecbj2Jic"
      },
      "execution_count": null,
      "outputs": []
    },
    {
      "cell_type": "code",
      "source": [
        "# response"
      ],
      "metadata": {
        "id": "zu6Cd_neFnR6"
      },
      "execution_count": null,
      "outputs": []
    },
    {
      "cell_type": "code",
      "source": [],
      "metadata": {
        "id": "BZDFfNzVFncm"
      },
      "execution_count": null,
      "outputs": []
    },
    {
      "cell_type": "code",
      "execution_count": null,
      "metadata": {
        "id": "H99ZVlz4lr6-"
      },
      "outputs": [],
      "source": [
        "co = cohere.Client(COHERE_API_KEY)"
      ]
    },
    {
      "cell_type": "code",
      "execution_count": null,
      "metadata": {
        "id": "5O9GNq3sK5kV"
      },
      "outputs": [],
      "source": [
        "cohere.api_key = COHERE_API_KEY\n",
        "\n",
        "class_name = \"Fiveyearhighlights\"\n",
        "prompt = f\"use the data {results1}{results2}{results3} and answer the following question in simple sentence \" +user_prompt\n"
      ]
    },
    {
      "cell_type": "code",
      "execution_count": null,
      "metadata": {
        "id": "QgDSXx0AN4OA"
      },
      "outputs": [],
      "source": [
        "response = co.chat(prompt)\n"
      ]
    },
    {
      "cell_type": "code",
      "source": [
        "response.text"
      ],
      "metadata": {
        "colab": {
          "base_uri": "https://localhost:8080/",
          "height": 35
        },
        "id": "ZFPtDN1pAv2t",
        "outputId": "96aa95e1-e88f-4197-eba0-28e094794253"
      },
      "execution_count": null,
      "outputs": [
        {
          "output_type": "execute_result",
          "data": {
            "text/plain": [
              "'The profit after tax was 376 crore for the year 2016.'"
            ],
            "application/vnd.google.colaboratory.intrinsic+json": {
              "type": "string"
            }
          },
          "metadata": {},
          "execution_count": 227
        }
      ]
    },
    {
      "cell_type": "code",
      "source": [],
      "metadata": {
        "id": "s2pH1KnPQpy8"
      },
      "execution_count": null,
      "outputs": []
    },
    {
      "cell_type": "code",
      "source": [
        "#_------------------------------------------------------EOF"
      ],
      "metadata": {
        "id": "2XQ-Kp1tQp2V"
      },
      "execution_count": null,
      "outputs": []
    },
    {
      "cell_type": "code",
      "source": [],
      "metadata": {
        "id": "kKl_XW4RQp59"
      },
      "execution_count": null,
      "outputs": []
    },
    {
      "cell_type": "code",
      "execution_count": null,
      "metadata": {
        "id": "-PDpz33lYjgC"
      },
      "outputs": [],
      "source": [
        "def promptresponse(user_prompt):\n",
        "    results1 = client.query.get(\"Fiveyearhighlights\", [\"description\", \"year\", \"value\"]\n",
        "                                ).with_near_text(\n",
        "                                    {\"concepts\": [user_prompt]}\n",
        "                                ).with_limit(5).do()\n",
        "\n",
        "    results2 = client.query.get(\"Abbdata\", [\"doc_text\"]\n",
        "                                ).with_near_text(\n",
        "                                    {\"concepts\": [user_prompt]}\n",
        "                                ).with_limit(3).do()\n",
        "\n",
        "    results3 = client.query.get(\"bs_cf_spl_tables\", [\"bs_cf_spl_description\", \"bs_cf_spl_year\", \"bs_cf_spl_value\"]\n",
        "                                ).with_near_text(\n",
        "                                    {\"concepts\": [user_prompt]}\n",
        "                                ).with_limit(10).do()\n",
        "\n",
        "    prompt = f\"use the data {results1}{results2}{results3} and answer the following question in simple sentence \" +user_prompt\n",
        "\n",
        "    response = co.chat(prompt)\n",
        "\n",
        "    return response.text\n"
      ]
    },
    {
      "cell_type": "code",
      "source": [
        "user_prompt_0 = \"what are the financial red flags for this company?\""
      ],
      "metadata": {
        "id": "f7GUK-btS_MR"
      },
      "execution_count": null,
      "outputs": []
    },
    {
      "cell_type": "code",
      "source": [
        "promptresponse(user_prompt_0)"
      ],
      "metadata": {
        "colab": {
          "base_uri": "https://localhost:8080/",
          "height": 157
        },
        "id": "X2JJYKokTArm",
        "outputId": "a5a085c1-b9bc-4ea2-e4e3-ac76442b0b28"
      },
      "execution_count": null,
      "outputs": [
        {
          "output_type": "execute_result",
          "data": {
            "text/plain": [
              "\"The company has had generally increasing profitability from 2012 to 2016, with the exception of a drop in 2015. However, it has also experienced increasing finance costs from 2013 to 2016 and net cash flow usage for investing activities increased in 2016 compared to 2015. Net cash flow from operating activities was higher in 2016 than 2015 and net cash flow from financing activities was lower in 2016 than 2015. \\n\\nThese financial data points do not indicate any significant red flags, but it is always important to consider additional context and factors that may be relevant to forming a fuller picture of the company's financial health.\""
            ],
            "application/vnd.google.colaboratory.intrinsic+json": {
              "type": "string"
            }
          },
          "metadata": {},
          "execution_count": 237
        }
      ]
    },
    {
      "cell_type": "code",
      "source": [
        "user_prompt_1 = \"what was the Profit after tax in the year 2016\""
      ],
      "metadata": {
        "id": "zu2KqtKC-2le"
      },
      "execution_count": null,
      "outputs": []
    },
    {
      "cell_type": "code",
      "source": [
        "promptresponse(user_prompt_1)"
      ],
      "metadata": {
        "colab": {
          "base_uri": "https://localhost:8080/",
          "height": 35
        },
        "id": "FsAmmHg6-1kl",
        "outputId": "1114e8ff-1063-4361-b1b5-3c842a6fcc70"
      },
      "execution_count": null,
      "outputs": [
        {
          "output_type": "execute_result",
          "data": {
            "text/plain": [
              "'The profit after tax was 376 crore for the year 2016.'"
            ],
            "application/vnd.google.colaboratory.intrinsic+json": {
              "type": "string"
            }
          },
          "metadata": {},
          "execution_count": 229
        }
      ]
    },
    {
      "cell_type": "code",
      "source": [
        "user_prompt_2 = \"total outstanding dues to micro enterprises and small enterprises 2016\""
      ],
      "metadata": {
        "id": "QbFKW3J0CNDb"
      },
      "execution_count": null,
      "outputs": []
    },
    {
      "cell_type": "code",
      "source": [
        "promptresponse(user_prompt_2)"
      ],
      "metadata": {
        "colab": {
          "base_uri": "https://localhost:8080/",
          "height": 35
        },
        "id": "KOJhYry3CNGz",
        "outputId": "21f6e400-0baa-4579-c286-dd2a3229b3f9"
      },
      "execution_count": null,
      "outputs": [
        {
          "output_type": "execute_result",
          "data": {
            "text/plain": [
              "'The total outstanding dues to micro and small enterprises in 2016 was 117.68.'"
            ],
            "application/vnd.google.colaboratory.intrinsic+json": {
              "type": "string"
            }
          },
          "metadata": {},
          "execution_count": 233
        }
      ]
    },
    {
      "cell_type": "code",
      "source": [
        "user_prompt_3 = \"summarize Auditor’s Responsibility\""
      ],
      "metadata": {
        "id": "fNdQ56MLOvSC"
      },
      "execution_count": null,
      "outputs": []
    },
    {
      "cell_type": "code",
      "source": [
        "promptresponse(user_prompt_3)"
      ],
      "metadata": {
        "colab": {
          "base_uri": "https://localhost:8080/",
          "height": 104
        },
        "id": "nDRFbBQkOvVJ",
        "outputId": "a4a62541-1ad1-4c22-c21a-75d5bdcfc0ef"
      },
      "execution_count": null,
      "outputs": [
        {
          "output_type": "execute_result",
          "data": {
            "text/plain": [
              "\"The auditor's responsibility is to express an opinion on the company's internal financial controls over financial reporting based on the audit. The audit was conducted in accordance with the Guidance Note on Audit of Internal Financial Controls Over Financial Reporting and the Standards on Auditing to obtain reasonable assurance about whether adequate internal financial controls over financial reporting were provided.\""
            ],
            "application/vnd.google.colaboratory.intrinsic+json": {
              "type": "string"
            }
          },
          "metadata": {},
          "execution_count": 235
        }
      ]
    },
    {
      "cell_type": "code",
      "source": [
        "user_prompt_4 = \"information on comapny revenue growth\""
      ],
      "metadata": {
        "id": "Xnqbvgu4Ovo_"
      },
      "execution_count": null,
      "outputs": []
    },
    {
      "cell_type": "code",
      "source": [
        "promptresponse(user_prompt_4)"
      ],
      "metadata": {
        "colab": {
          "base_uri": "https://localhost:8080/",
          "height": 174
        },
        "id": "g8O7bPUwCNKP",
        "outputId": "e1d57e9a-2d6c-4998-9dac-8a454891686f"
      },
      "execution_count": null,
      "outputs": [
        {
          "output_type": "execute_result",
          "data": {
            "text/plain": [
              "\"Here are the revenue growth figures for the company ABB India Limited from 2012 to 2016. The information is taken from the annual reports of the company:\\n\\n2012: value : 7565\\n2013: value : 7722\\n2014: value : 7733\\n2015: value : 8140\\n2016: value : 8648. \\n\\nIt appears that there was a consistent increase in revenue from operations net and gross over the five-year period with the exception of a slight decrease in 2015 for the operation's gross revenue. \\n\\nHowever, overall, it seems like the company's revenue from operations net and gross grew significantly from 2012 to 2016. \\n\\nIt would be advisable to examine the company's financial statements and annual reports for more current information and to make decisions based on the nascent trends foreseen.\""
            ],
            "application/vnd.google.colaboratory.intrinsic+json": {
              "type": "string"
            }
          },
          "metadata": {},
          "execution_count": 241
        }
      ]
    },
    {
      "cell_type": "code",
      "source": [
        "# Creating chat session"
      ],
      "metadata": {
        "id": "rAWa5sj3Lt3N"
      },
      "execution_count": null,
      "outputs": []
    },
    {
      "cell_type": "code",
      "execution_count": null,
      "metadata": {
        "colab": {
          "base_uri": "https://localhost:8080/"
        },
        "id": "-_X5GS6nYji6",
        "outputId": "6b93ab62-779f-48bb-fb3c-420d1cd69a71"
      },
      "outputs": [
        {
          "output_type": "stream",
          "name": "stdout",
          "text": [
            "Starting the chat. Type \"quit\" to end.\n",
            "\n",
            "User: give the total net cash flow from operating activities in the year 2015 to 2016\n",
            "Chatbot: The total net cash flow from operating activities for the years 2015 and 2016 is 1,189.16 Crores and 573.59 Crores respectively. \n",
            "Did you want to know more about the cash flow statement or ABB India Limited? \n",
            "\n",
            "I can provide more information or specific data if needed.\n",
            "\n",
            "User: Unrealised exchange loss / (gains) (net)\n",
            "Chatbot: According to the data within my parameters, the net amount of the unrealised exchange loss on the cash and cash equivalents for the years mentioned cannot be provided.\n",
            "\n",
            "Is there anything else I can help you with?  I can provide more information or specific data if needed.\n",
            "\n",
            "User: quit\n",
            "Ending chat.\n"
          ]
        }
      ],
      "source": [
        "# Create a conversation ID\n",
        "import uuid\n",
        "conversation_id = str(uuid.uuid4())\n",
        "\n",
        "print('Starting the chat. Type \"quit\" to end.\\n')\n",
        "\n",
        "while True:\n",
        "\n",
        "    # User message\n",
        "    message = input(\"User: \")\n",
        "\n",
        "    # Typing \"quit\" ends the conversation\n",
        "    if message.lower() == 'quit':\n",
        "        print(\"Ending chat.\")\n",
        "        break\n",
        "\n",
        "    results1 = client.query.get(\"Fiveyearhighlights\", [\"description\", \"year\", \"value\"]).with_near_text({\"concepts\": [message]}).with_limit(5).do()\n",
        "\n",
        "    results2 = client.query.get(\"Abbdata\", [\"doc_text\"]).with_near_text({\"concepts\": [message]}).with_limit(3).do()\n",
        "\n",
        "\n",
        "    preamble_override = f\"Financial Analyst chatbot.Use the data {results1}{results2} and answer the following question in simple sentence \" +message\n",
        "    # Chatbot response\n",
        "    response = co.chat(message=message,\n",
        "                        preamble_override=preamble_override,\n",
        "                        stream=True,\n",
        "                        conversation_id=conversation_id,\n",
        "                        return_chat_history=True)\n",
        "\n",
        "    print(\"Chatbot: \", end='')\n",
        "\n",
        "    for event in response:\n",
        "        if event.event_type == \"text-generation\":\n",
        "            print(event.text, end='')\n",
        "    print(\"\\n\")"
      ]
    },
    {
      "cell_type": "code",
      "source": [],
      "metadata": {
        "id": "aVaTs-NnEBWs"
      },
      "execution_count": null,
      "outputs": []
    },
    {
      "cell_type": "code",
      "execution_count": null,
      "metadata": {
        "id": "R4lsv00FiYm7"
      },
      "outputs": [],
      "source": []
    }
  ],
  "metadata": {
    "colab": {
      "provenance": []
    },
    "kernelspec": {
      "display_name": "Python 3",
      "name": "python3"
    },
    "language_info": {
      "name": "python"
    }
  },
  "nbformat": 4,
  "nbformat_minor": 0
}