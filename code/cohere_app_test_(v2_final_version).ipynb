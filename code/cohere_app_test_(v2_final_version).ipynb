{
  "cells": [
    {
      "cell_type": "code",
      "execution_count": null,
      "metadata": {
        "id": "t3HYrij6HoiL"
      },
      "outputs": [],
      "source": [
        "# pip install weaviate-client cohere"
      ]
    },
    {
      "cell_type": "code",
      "execution_count": null,
      "metadata": {
        "id": "CXuXVk2wHxeK"
      },
      "outputs": [],
      "source": [
        "import weaviate\n",
        "import cohere"
      ]
    },
    {
      "cell_type": "code",
      "execution_count": null,
      "metadata": {
        "id": "lWoYpq1cHyQr"
      },
      "outputs": [],
      "source": [
        "WEAVIATE_API_KEY = \"WfdvclBO4vWoiOfXCV1DjwOZUNZ08nr3NACb\"\n",
        "WEAVIATE_CLUSTER = \"https://weaviate-hackathon-cluster-7l2iio8z.weaviate.network\"\n",
        "COHERE_API_KEY = \"QnW41n57tHZl6r5EscOHPg1KbF6YrUAhpE7oJGSA\""
      ]
    },
    {
      "cell_type": "code",
      "execution_count": null,
      "metadata": {
        "id": "WkAOd8znILX3"
      },
      "outputs": [],
      "source": [
        "auth_config = weaviate.auth.AuthApiKey(api_key = WEAVIATE_API_KEY)\n",
        "weaviate_url = WEAVIATE_CLUSTER"
      ]
    },
    {
      "cell_type": "code",
      "execution_count": null,
      "metadata": {
        "id": "Pk6eFqS1ISqO"
      },
      "outputs": [],
      "source": [
        "client = weaviate.Client(url = weaviate_url,\n",
        "additional_headers = {\"X-Cohere-Api-Key\":COHERE_API_KEY},\n",
        "auth_client_secret = auth_config)"
      ]
    },
    {
      "cell_type": "code",
      "execution_count": null,
      "metadata": {
        "colab": {
          "base_uri": "https://localhost:8080/"
        },
        "id": "8RQkcZ1cIUrq",
        "outputId": "0dc7850d-7478-4c42-ca23-572f83360076"
      },
      "outputs": [
        {
          "data": {
            "text/plain": [
              "True"
            ]
          },
          "execution_count": 18,
          "metadata": {},
          "output_type": "execute_result"
        }
      ],
      "source": [
        "client.is_ready()"
      ]
    },
    {
      "cell_type": "code",
      "execution_count": null,
      "metadata": {
        "id": "71LA1fmGKRCr"
      },
      "outputs": [],
      "source": [
        "co = cohere.Client(COHERE_API_KEY)"
      ]
    },
    {
      "cell_type": "code",
      "execution_count": 22,
      "metadata": {
        "colab": {
          "base_uri": "https://localhost:8080/",
          "height": 480
        },
        "id": "mX6dma6vQE8u",
        "outputId": "2bf2b0b3-60d2-4435-a8a5-d2add8d7ce26"
      },
      "outputs": [
        {
          "metadata": {
            "tags": null
          },
          "name": "stdout",
          "output_type": "stream",
          "text": [
            "Starting the chat. Type \"quit\" to end.\n",
            "\n",
            "Chatbot: Hi! I'm a FinAnalyticaAI chat bot for ABB, and I'm here to help answer your questions about financial reports. I can provide you with data extracted from ABB's financial reports and other sources. How can I assist you today?\n",
            "\n"
          ]
        },
        {
          "output_type": "error",
          "ename": "KeyboardInterrupt",
          "evalue": "Interrupted by user",
          "traceback": [
            "\u001b[0;31m---------------------------------------------------------------------------\u001b[0m",
            "\u001b[0;31mKeyboardInterrupt\u001b[0m                         Traceback (most recent call last)",
            "\u001b[0;32m<ipython-input-22-b03f6e312721>\u001b[0m in \u001b[0;36m<cell line: 7>\u001b[0;34m()\u001b[0m\n\u001b[1;32m      8\u001b[0m \u001b[0;34m\u001b[0m\u001b[0m\n\u001b[1;32m      9\u001b[0m     \u001b[0;31m# User message\u001b[0m\u001b[0;34m\u001b[0m\u001b[0;34m\u001b[0m\u001b[0m\n\u001b[0;32m---> 10\u001b[0;31m     \u001b[0mmessage\u001b[0m \u001b[0;34m=\u001b[0m \u001b[0minput\u001b[0m\u001b[0;34m(\u001b[0m\u001b[0;34m\"User: \"\u001b[0m\u001b[0;34m)\u001b[0m\u001b[0;34m\u001b[0m\u001b[0;34m\u001b[0m\u001b[0m\n\u001b[0m\u001b[1;32m     11\u001b[0m \u001b[0;34m\u001b[0m\u001b[0m\n\u001b[1;32m     12\u001b[0m     \u001b[0;31m# Typing \"quit\" ends the conversation\u001b[0m\u001b[0;34m\u001b[0m\u001b[0;34m\u001b[0m\u001b[0m\n",
            "\u001b[0;32m/usr/local/lib/python3.10/dist-packages/ipykernel/kernelbase.py\u001b[0m in \u001b[0;36mraw_input\u001b[0;34m(self, prompt)\u001b[0m\n\u001b[1;32m    849\u001b[0m                 \u001b[0;34m\"raw_input was called, but this frontend does not support input requests.\"\u001b[0m\u001b[0;34m\u001b[0m\u001b[0;34m\u001b[0m\u001b[0m\n\u001b[1;32m    850\u001b[0m             )\n\u001b[0;32m--> 851\u001b[0;31m         return self._input_request(str(prompt),\n\u001b[0m\u001b[1;32m    852\u001b[0m             \u001b[0mself\u001b[0m\u001b[0;34m.\u001b[0m\u001b[0m_parent_ident\u001b[0m\u001b[0;34m,\u001b[0m\u001b[0;34m\u001b[0m\u001b[0;34m\u001b[0m\u001b[0m\n\u001b[1;32m    853\u001b[0m             \u001b[0mself\u001b[0m\u001b[0;34m.\u001b[0m\u001b[0m_parent_header\u001b[0m\u001b[0;34m,\u001b[0m\u001b[0;34m\u001b[0m\u001b[0;34m\u001b[0m\u001b[0m\n",
            "\u001b[0;32m/usr/local/lib/python3.10/dist-packages/ipykernel/kernelbase.py\u001b[0m in \u001b[0;36m_input_request\u001b[0;34m(self, prompt, ident, parent, password)\u001b[0m\n\u001b[1;32m    893\u001b[0m             \u001b[0;32mexcept\u001b[0m \u001b[0mKeyboardInterrupt\u001b[0m\u001b[0;34m:\u001b[0m\u001b[0;34m\u001b[0m\u001b[0;34m\u001b[0m\u001b[0m\n\u001b[1;32m    894\u001b[0m                 \u001b[0;31m# re-raise KeyboardInterrupt, to truncate traceback\u001b[0m\u001b[0;34m\u001b[0m\u001b[0;34m\u001b[0m\u001b[0m\n\u001b[0;32m--> 895\u001b[0;31m                 \u001b[0;32mraise\u001b[0m \u001b[0mKeyboardInterrupt\u001b[0m\u001b[0;34m(\u001b[0m\u001b[0;34m\"Interrupted by user\"\u001b[0m\u001b[0;34m)\u001b[0m \u001b[0;32mfrom\u001b[0m \u001b[0;32mNone\u001b[0m\u001b[0;34m\u001b[0m\u001b[0;34m\u001b[0m\u001b[0m\n\u001b[0m\u001b[1;32m    896\u001b[0m             \u001b[0;32mexcept\u001b[0m \u001b[0mException\u001b[0m \u001b[0;32mas\u001b[0m \u001b[0me\u001b[0m\u001b[0;34m:\u001b[0m\u001b[0;34m\u001b[0m\u001b[0;34m\u001b[0m\u001b[0m\n\u001b[1;32m    897\u001b[0m                 \u001b[0mself\u001b[0m\u001b[0;34m.\u001b[0m\u001b[0mlog\u001b[0m\u001b[0;34m.\u001b[0m\u001b[0mwarning\u001b[0m\u001b[0;34m(\u001b[0m\u001b[0;34m\"Invalid Message:\"\u001b[0m\u001b[0;34m,\u001b[0m \u001b[0mexc_info\u001b[0m\u001b[0;34m=\u001b[0m\u001b[0;32mTrue\u001b[0m\u001b[0;34m)\u001b[0m\u001b[0;34m\u001b[0m\u001b[0;34m\u001b[0m\u001b[0m\n",
            "\u001b[0;31mKeyboardInterrupt\u001b[0m: Interrupted by user"
          ]
        }
      ],
      "source": [
        "# Create a conversation ID\n",
        "import uuid\n",
        "conversation_id = str(uuid.uuid4())\n",
        "\n",
        "print('Starting the chat. Type \"quit\" to end.\\n')\n",
        "\n",
        "while True:\n",
        "\n",
        "    # User message\n",
        "    message = input(\"User: \")\n",
        "\n",
        "    # Typing \"quit\" ends the conversation\n",
        "    if message.lower() == 'quit':\n",
        "        print(\"Ending chat.\")\n",
        "        break\n",
        "    rag_response = \"\"\n",
        "    results1 = client.query.get(\"Fiveyearhighlights\", [\"description\", \"year\", \"value\"]).with_near_text({\"concepts\": [message]}).with_limit(5).do()\n",
        "\n",
        "    results2 = client.query.get(\"Abbdata\", [\"doc_text\"]).with_near_text({\"concepts\": [message]}).with_limit(3).do()\n",
        "\n",
        "    results3 = client.query.get(\"bs_cf_spl_tables\", [\"bs_cf_spl_description\", \"bs_cf_spl_year\", \"bs_cf_spl_value\"]).with_near_text({\"concepts\": [message]}).with_limit(10).do()\n",
        "\n",
        "    greetings_prompt = \"Hi, I am a FinAnalyticaAI chat bot for ABB and please ask me about prompt related to Financial Report.\"\n",
        "    preamble_override = f\"if prompt is greetings like hi, hello. then please respond by using following text:{greetings_prompt}. Use {results1}{results3} data to answer the prompt. if the data is not enough then use {results2} data and answer the following question in simple sentence \" +message+f\"also consider history of chat from following data {rag_response}\"\n",
        "    # Chatbot response\n",
        "    response = co.chat(message=message,\n",
        "                        preamble_override=preamble_override,\n",
        "                        stream=True, #conversation_id=conversation_id,\n",
        "                        conversation_id=conversation_id,\n",
        "                        return_chat_history=True)\n",
        "\n",
        "\n",
        "    print(\"Chatbot: \", end='')\n",
        "\n",
        "    for event in response:\n",
        "        if event.event_type == \"text-generation\":\n",
        "            print(event.text, end='')\n",
        "            rag_response = event.text\n",
        "    print(\"\\n\")"
      ]
    },
    {
      "cell_type": "code",
      "execution_count": null,
      "metadata": {
        "id": "AeTDFTi4cecw"
      },
      "outputs": [],
      "source": []
    }
  ],
  "metadata": {
    "colab": {
      "provenance": []
    },
    "kernelspec": {
      "display_name": "Python 3",
      "name": "python3"
    },
    "language_info": {
      "name": "python"
    }
  },
  "nbformat": 4,
  "nbformat_minor": 0
}